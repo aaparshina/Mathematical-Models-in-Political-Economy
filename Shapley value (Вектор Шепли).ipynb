{
 "cells": [
  {
   "cell_type": "markdown",
   "metadata": {},
   "source": [
    "# Вектор Шепли\n",
    "\n",
    "*по лекциям кандидата физико-математических наук [Сысоевой Л.Н](https://www.hse.ru/staff/lsysoeva \"НИУ ВШЭ\") на курсе [\"Математические модели политэкономии\"](https://www.hse.ru/edu/courses/219871509)* "
   ]
  },
  {
   "cell_type": "code",
   "execution_count": 2,
   "metadata": {},
   "outputs": [],
   "source": [
    "from tkinter import *\n",
    "from itertools import combinations\n",
    "from itertools import permutations\n",
    "import pandas as pd\n",
    "from math import factorial"
   ]
  },
  {
   "cell_type": "markdown",
   "metadata": {},
   "source": [
    "Сначала рассмотрим общий случай, далее - объединим все в функцию.\n",
    "\n",
    "Предположим, у нас есть 3 игрока, у каждого из них есть какой-то ресурс (деньги, количество голосов) и они хотят достичь какую-то цель (например, купить вместе какой-то объект)."
   ]
  },
  {
   "cell_type": "code",
   "execution_count": 3,
   "metadata": {},
   "outputs": [],
   "source": [
    "number_of_participants = 3\n",
    "resources = [500, 278, 365]\n",
    "aim = 660"
   ]
  },
  {
   "cell_type": "markdown",
   "metadata": {},
   "source": [
    "Коалиция – любое подмножество игроков. \n",
    "\n",
    "Характеристическая функция коалиции: $V(k)$ – выигрыш, который может получить коалиция $k$.\n",
    "\n",
    "Посмотрим, на все возможные коалиции (в том числе и пустое множество, в некоторых играх оно важно т.к. есть игры, когда никто не вкладывается, а ресурс есть)."
   ]
  },
  {
   "cell_type": "code",
   "execution_count": 4,
   "metadata": {},
   "outputs": [
    {
     "data": {
      "text/plain": [
       "[(), (1,), (2,), (3,), (1, 2), (1, 3), (2, 3), (1, 2, 3)]"
      ]
     },
     "execution_count": 4,
     "metadata": {},
     "output_type": "execute_result"
    }
   ],
   "source": [
    "coalitions = []\n",
    "for i in range(number_of_participants+1):\n",
    "    coalitions.extend(list(combinations(list(range(1, number_of_participants+1)), i)))\n",
    "coalitions"
   ]
  },
  {
   "cell_type": "markdown",
   "metadata": {},
   "source": [
    "Игроки могут вкладываться в разных последовательностях. Посмотрим на них:"
   ]
  },
  {
   "cell_type": "code",
   "execution_count": 5,
   "metadata": {},
   "outputs": [
    {
     "data": {
      "text/plain": [
       "[(1, 2, 3), (1, 3, 2), (2, 1, 3), (2, 3, 1), (3, 1, 2), (3, 2, 1)]"
      ]
     },
     "execution_count": 5,
     "metadata": {},
     "output_type": "execute_result"
    }
   ],
   "source": [
    "order = list(permutations(range(1, number_of_participants+1)))\n",
    "order"
   ]
  },
  {
   "cell_type": "markdown",
   "metadata": {},
   "source": [
    "Сделаем таблицу, в которой будем отмечать, чье вложение является решающим."
   ]
  },
  {
   "cell_type": "code",
   "execution_count": 6,
   "metadata": {},
   "outputs": [
    {
     "data": {
      "text/html": [
       "<div>\n",
       "<style scoped>\n",
       "    .dataframe tbody tr th:only-of-type {\n",
       "        vertical-align: middle;\n",
       "    }\n",
       "\n",
       "    .dataframe tbody tr th {\n",
       "        vertical-align: top;\n",
       "    }\n",
       "\n",
       "    .dataframe thead th {\n",
       "        text-align: right;\n",
       "    }\n",
       "</style>\n",
       "<table border=\"1\" class=\"dataframe\">\n",
       "  <thead>\n",
       "    <tr style=\"text-align: right;\">\n",
       "      <th></th>\n",
       "      <th>1</th>\n",
       "      <th>2</th>\n",
       "      <th>3</th>\n",
       "    </tr>\n",
       "  </thead>\n",
       "  <tbody>\n",
       "    <tr>\n",
       "      <th>(1, 2, 3)</th>\n",
       "      <td>NaN</td>\n",
       "      <td>NaN</td>\n",
       "      <td>NaN</td>\n",
       "    </tr>\n",
       "    <tr>\n",
       "      <th>(1, 3, 2)</th>\n",
       "      <td>NaN</td>\n",
       "      <td>NaN</td>\n",
       "      <td>NaN</td>\n",
       "    </tr>\n",
       "    <tr>\n",
       "      <th>(2, 1, 3)</th>\n",
       "      <td>NaN</td>\n",
       "      <td>NaN</td>\n",
       "      <td>NaN</td>\n",
       "    </tr>\n",
       "    <tr>\n",
       "      <th>(2, 3, 1)</th>\n",
       "      <td>NaN</td>\n",
       "      <td>NaN</td>\n",
       "      <td>NaN</td>\n",
       "    </tr>\n",
       "    <tr>\n",
       "      <th>(3, 1, 2)</th>\n",
       "      <td>NaN</td>\n",
       "      <td>NaN</td>\n",
       "      <td>NaN</td>\n",
       "    </tr>\n",
       "    <tr>\n",
       "      <th>(3, 2, 1)</th>\n",
       "      <td>NaN</td>\n",
       "      <td>NaN</td>\n",
       "      <td>NaN</td>\n",
       "    </tr>\n",
       "  </tbody>\n",
       "</table>\n",
       "</div>"
      ],
      "text/plain": [
       "             1    2    3\n",
       "(1, 2, 3)  NaN  NaN  NaN\n",
       "(1, 3, 2)  NaN  NaN  NaN\n",
       "(2, 1, 3)  NaN  NaN  NaN\n",
       "(2, 3, 1)  NaN  NaN  NaN\n",
       "(3, 1, 2)  NaN  NaN  NaN\n",
       "(3, 2, 1)  NaN  NaN  NaN"
      ]
     },
     "execution_count": 6,
     "metadata": {},
     "output_type": "execute_result"
    }
   ],
   "source": [
    "table = pd.DataFrame(index=order, columns=list(range(1, number_of_participants+1)))\n",
    "table"
   ]
  },
  {
   "cell_type": "code",
   "execution_count": 7,
   "metadata": {},
   "outputs": [
    {
     "data": {
      "text/html": [
       "<div>\n",
       "<style scoped>\n",
       "    .dataframe tbody tr th:only-of-type {\n",
       "        vertical-align: middle;\n",
       "    }\n",
       "\n",
       "    .dataframe tbody tr th {\n",
       "        vertical-align: top;\n",
       "    }\n",
       "\n",
       "    .dataframe thead th {\n",
       "        text-align: right;\n",
       "    }\n",
       "</style>\n",
       "<table border=\"1\" class=\"dataframe\">\n",
       "  <thead>\n",
       "    <tr style=\"text-align: right;\">\n",
       "      <th></th>\n",
       "      <th>1</th>\n",
       "      <th>2</th>\n",
       "      <th>3</th>\n",
       "    </tr>\n",
       "  </thead>\n",
       "  <tbody>\n",
       "    <tr>\n",
       "      <th>(1, 2, 3)</th>\n",
       "      <td>-</td>\n",
       "      <td>1</td>\n",
       "      <td>-</td>\n",
       "    </tr>\n",
       "    <tr>\n",
       "      <th>(1, 3, 2)</th>\n",
       "      <td>-</td>\n",
       "      <td>-</td>\n",
       "      <td>1</td>\n",
       "    </tr>\n",
       "    <tr>\n",
       "      <th>(2, 1, 3)</th>\n",
       "      <td>1</td>\n",
       "      <td>-</td>\n",
       "      <td>-</td>\n",
       "    </tr>\n",
       "    <tr>\n",
       "      <th>(2, 3, 1)</th>\n",
       "      <td>1</td>\n",
       "      <td>-</td>\n",
       "      <td>-</td>\n",
       "    </tr>\n",
       "    <tr>\n",
       "      <th>(3, 1, 2)</th>\n",
       "      <td>1</td>\n",
       "      <td>-</td>\n",
       "      <td>-</td>\n",
       "    </tr>\n",
       "    <tr>\n",
       "      <th>(3, 2, 1)</th>\n",
       "      <td>1</td>\n",
       "      <td>-</td>\n",
       "      <td>-</td>\n",
       "    </tr>\n",
       "  </tbody>\n",
       "</table>\n",
       "</div>"
      ],
      "text/plain": [
       "           1  2  3\n",
       "(1, 2, 3)  -  1  -\n",
       "(1, 3, 2)  -  -  1\n",
       "(2, 1, 3)  1  -  -\n",
       "(2, 3, 1)  1  -  -\n",
       "(3, 1, 2)  1  -  -\n",
       "(3, 2, 1)  1  -  -"
      ]
     },
     "execution_count": 7,
     "metadata": {},
     "output_type": "execute_result"
    }
   ],
   "source": [
    "for i in order:\n",
    "    x = 0\n",
    "    for j in i:\n",
    "        x += resources[j-1] \n",
    "        if x >= aim:\n",
    "            table.loc[i,j] = 1\n",
    "            break\n",
    "        else:\n",
    "            pass\n",
    "\n",
    "table = table.fillna('-')\n",
    "table"
   ]
  },
  {
   "cell_type": "markdown",
   "metadata": {},
   "source": [
    "В четырех случаях из шести вложение 1 игрока является решающим, в одном из шести – решающее вложение 2 игрока, и в еще одном из шести – игрока 3.\n",
    "\n",
    "Компонента вектора Шепли для 2 игрока будет расчитана так: "
   ]
  },
  {
   "cell_type": "code",
   "execution_count": 8,
   "metadata": {},
   "outputs": [
    {
     "data": {
      "text/plain": [
       "0.16666666666666666"
      ]
     },
     "execution_count": 8,
     "metadata": {},
     "output_type": "execute_result"
    }
   ],
   "source": [
    "sum([x for x in list(table.loc[:, 2]) if x == 1]) / len(order) # сумма единиц разделенная на количество комбинаций"
   ]
  },
  {
   "cell_type": "markdown",
   "metadata": {},
   "source": [
    "Вектор Шепли: "
   ]
  },
  {
   "cell_type": "code",
   "execution_count": 9,
   "metadata": {},
   "outputs": [
    {
     "data": {
      "text/plain": [
       "{1: 0.6666666666666666, 2: 0.16666666666666666, 3: 0.16666666666666666}"
      ]
     },
     "execution_count": 9,
     "metadata": {},
     "output_type": "execute_result"
    }
   ],
   "source": [
    "probs = {}\n",
    "for i in range(1, number_of_participants+1):\n",
    "    p = sum([x for x in list(table.loc[:, i]) if x == 1]) / len(order)\n",
    "    probs[i] = p\n",
    "probs"
   ]
  },
  {
   "cell_type": "code",
   "execution_count": 10,
   "metadata": {},
   "outputs": [
    {
     "name": "stdout",
     "output_type": "stream",
     "text": [
      "Компонента вектора Шепли для 1 игрока равна 0.6666666666666666\n",
      "Компонента вектора Шепли для 2 игрока равна 0.16666666666666666\n",
      "Компонента вектора Шепли для 3 игрока равна 0.16666666666666666\n"
     ]
    }
   ],
   "source": [
    "for k, v in probs.items():\n",
    "    print('Компонента вектора Шепли для', k, 'игрока равна', v)"
   ]
  },
  {
   "cell_type": "markdown",
   "metadata": {},
   "source": [
    "Формула, по которой можно посчитать каждую компоненту: \n",
    "    \n",
    "$$\n",
    "\\varphi_i=\\sum_{i\\in k, |k| = t}\\frac{(t-1)!\\cdot(n-t)!}{n!} \\cdot [V(k) - V(k\\backslash \\{i\\})]\n",
    "$$\n",
    "\n",
    "+ $i\\in k$ – все коалиции, в которые входит i-тый игрок\n",
    "+ $|k| = t$ – количество членов успешных коалиций\n",
    "+ $[V(k) - V(k\\backslash \\{i\\})]$ – выигрыш коалиции 𝑘 минус выигрыш коалиции 𝑘, когда в ней нет i-го игрока\n",
    "+ $k\\backslash \\{i\\}$ – k без i"
   ]
  },
  {
   "cell_type": "code",
   "execution_count": 11,
   "metadata": {},
   "outputs": [
    {
     "data": {
      "text/plain": [
       "{1: 0.6666666666666666, 2: 0.16666666666666666, 3: 0.16666666666666666}"
      ]
     },
     "execution_count": 11,
     "metadata": {},
     "output_type": "execute_result"
    }
   ],
   "source": [
    "vector = {}\n",
    "for i in range(1, number_of_participants+1):\n",
    "    COMP = 0\n",
    "    t = []\n",
    "    V_k = []\n",
    "    \n",
    "    V_k_ = []\n",
    "\n",
    "    for c in coalitions:\n",
    "        if i in c: # считаем количество игроков коалиций, в которые входит игрок\n",
    "            t.append(len(c))\n",
    "            V_ = 0\n",
    "            V = 0\n",
    "            for j in c:\n",
    "                \n",
    "                V+=resources[j-1] # выигрыш коалиции, если в нее входит i-ый игрок\n",
    "                \n",
    "                if j != i:\n",
    "                    V_ += resources[j-1] # выигрыш коалиции, если в нее не входит i-ый игрок\n",
    "        \n",
    "            if V >= aim:\n",
    "                V_k.append(1)\n",
    "            else:\n",
    "                V_k.append(0)\n",
    "                \n",
    "            if V_ >= aim:\n",
    "                V_k_.append(1)\n",
    "            else:\n",
    "                V_k_.append(0)\n",
    "\n",
    "    for l in range(len(t)):\n",
    "        COMP += ((factorial(t[l] - 1) * factorial(number_of_participants - t[l])) / factorial(number_of_participants)) * (V_k[l] - V_k_[l])\n",
    "        \n",
    "    vector[i] = COMP \n",
    "    \n",
    "vector"
   ]
  },
  {
   "cell_type": "markdown",
   "metadata": {},
   "source": [
    "Получили аналогичный вывод. Теперь запишем все в функцию."
   ]
  },
  {
   "cell_type": "markdown",
   "metadata": {},
   "source": [
    "## Функция"
   ]
  },
  {
   "cell_type": "code",
   "execution_count": 12,
   "metadata": {},
   "outputs": [],
   "source": [
    "# Функция для расчета вектора Шепли\n",
    "def find_vector(number_of_participants, aim, resources):\n",
    "    resources = list(map(lambda x: int(x.get()), resources))\n",
    "\n",
    "    coalitions = []\n",
    "    for i in range(number_of_participants+1):\n",
    "        coalitions.extend(list(combinations(list(range(1, number_of_participants+1)), i)))\n",
    "\n",
    "    vector = {}\n",
    "    for i in range(1, number_of_participants+1):\n",
    "        COMP = 0\n",
    "        t = []\n",
    "        V_k = []\n",
    "        V_k_ = []\n",
    "\n",
    "        for c in coalitions:\n",
    "            if i in c: # считаем количество игроков коалиций, в которые входит игрок\n",
    "                t.append(len(c))\n",
    "                V = 0\n",
    "                V_ = 0\n",
    "                for j in c:\n",
    "\n",
    "                    V+=resources[j-1] # выигрыш коалиции, если в нее входит i-ый игрок\n",
    "\n",
    "                    if j != i:\n",
    "                        V_ += resources[j-1] # выигрыш коалиции, если в нее не входит i-ый игрок\n",
    "\n",
    "                if V >= aim:\n",
    "                    V_k.append(1)\n",
    "                else:\n",
    "                    V_k.append(0)\n",
    "\n",
    "                if V_ >= aim:\n",
    "                    V_k_.append(1)\n",
    "                else:\n",
    "                    V_k_.append(0)\n",
    "\n",
    "        for l in range(len(t)):\n",
    "            COMP += ((factorial(t[l] - 1) * factorial(number_of_participants - t[l])) / factorial(number_of_participants)) * (V_k[l] - V_k_[l])\n",
    "\n",
    "        vector[i] = COMP \n",
    "    for i in range(1, number_of_participants+1):\n",
    "        print('Ресурс', i, 'игрока равен', resources[i-1])\n",
    "    \n",
    "    vector_l = []\n",
    "    for k, v in vector.items():\n",
    "        vector_l.append(v)\n",
    "        print('Компонента вектора Шепли для', k, 'игрока равна', v)\n",
    "    print('Вектор Шепли:', tuple(vector_l))\n",
    "    print('==================================')\n",
    "    print('==================================')\n",
    "\n",
    "# Функция для ввода данных\n",
    "def find_vector_menu():\n",
    "    number_of_participants = int(input('Введите число участников: '))\n",
    "    aim = int(input('Цель участников (число): '))\n",
    "\n",
    "    window = Tk()\n",
    "    window.title(\"Ресурс каждого игрока\")\n",
    "\n",
    "    l = Label(window, text = 'Player')\n",
    "    l.grid(row = 0, column = 0)\n",
    "\n",
    "    l = Label(window, text = 'Resources')\n",
    "    l.grid(row = 0, column = 1)\n",
    "\n",
    "    for i in range(number_of_participants):\n",
    "        l = Label(window, text = str(i+1))\n",
    "        l.grid(row = i+1, column = 0)\n",
    "\n",
    "    resources = []    \n",
    "\n",
    "    for i in range(number_of_participants):\n",
    "        l = Label(window, text = ' ')\n",
    "        l.grid(row = i+1, column = 1)\n",
    "\n",
    "        resources.append(Entry(window, textvariable = IntVar(), width=5))\n",
    "        resources[-1].grid(row = i+1, column = 1)\n",
    "\n",
    "\n",
    "    b = Button(window, text = 'Done', width=10, activebackground = '#73f5ee', command=lambda: find_vector(number_of_participants, aim, resources))\n",
    "    b.grid(row = number_of_participants+1, column = 1)\n",
    "\n",
    "    window.mainloop()\n",
    "\n"
   ]
  },
  {
   "cell_type": "code",
   "execution_count": 13,
   "metadata": {
    "scrolled": true
   },
   "outputs": [
    {
     "name": "stdout",
     "output_type": "stream",
     "text": [
      "Введите число участников: 3\n",
      "Цель участников (число): 660\n",
      "Ресурс 1 игрока равен 500\n",
      "Ресурс 2 игрока равен 278\n",
      "Ресурс 3 игрока равен 365\n",
      "Компонента вектора Шепли для 1 игрока равна 0.6666666666666666\n",
      "Компонента вектора Шепли для 2 игрока равна 0.16666666666666666\n",
      "Компонента вектора Шепли для 3 игрока равна 0.16666666666666666\n",
      "Вектор Шепли: (0.6666666666666666, 0.16666666666666666, 0.16666666666666666)\n",
      "==================================\n",
      "==================================\n",
      "Ресурс 1 игрока равен 300\n",
      "Ресурс 2 игрока равен 450\n",
      "Ресурс 3 игрока равен 80\n",
      "Компонента вектора Шепли для 1 игрока равна 0.5\n",
      "Компонента вектора Шепли для 2 игрока равна 0.5\n",
      "Компонента вектора Шепли для 3 игрока равна 0.0\n",
      "Вектор Шепли: (0.5, 0.5, 0.0)\n",
      "==================================\n",
      "==================================\n",
      "Ресурс 1 игрока равен 50\n",
      "Ресурс 2 игрока равен 650\n",
      "Ресурс 3 игрока равен 800\n",
      "Компонента вектора Шепли для 1 игрока равна 0.16666666666666666\n",
      "Компонента вектора Шепли для 2 игрока равна 0.16666666666666666\n",
      "Компонента вектора Шепли для 3 игрока равна 0.6666666666666666\n",
      "Вектор Шепли: (0.16666666666666666, 0.16666666666666666, 0.6666666666666666)\n",
      "==================================\n",
      "==================================\n",
      "Ресурс 1 игрока равен 300\n",
      "Ресурс 2 игрока равен 300\n",
      "Ресурс 3 игрока равен 300\n",
      "Компонента вектора Шепли для 1 игрока равна 0.3333333333333333\n",
      "Компонента вектора Шепли для 2 игрока равна 0.3333333333333333\n",
      "Компонента вектора Шепли для 3 игрока равна 0.3333333333333333\n",
      "Вектор Шепли: (0.3333333333333333, 0.3333333333333333, 0.3333333333333333)\n",
      "==================================\n",
      "==================================\n"
     ]
    }
   ],
   "source": [
    "find_vector_menu() # введем кол-во игроков = 3, цель = 660, ресурсы сначала те, которые рассматривали выше, потом поменяем"
   ]
  },
  {
   "cell_type": "code",
   "execution_count": 14,
   "metadata": {},
   "outputs": [
    {
     "name": "stdout",
     "output_type": "stream",
     "text": [
      "Введите число участников: 6\n",
      "Цель участников (число): 1500\n",
      "Ресурс 1 игрока равен 500\n",
      "Ресурс 2 игрока равен 350\n",
      "Ресурс 3 игрока равен 1000\n",
      "Ресурс 4 игрока равен 800\n",
      "Ресурс 5 игрока равен 700\n",
      "Ресурс 6 игрока равен 650\n",
      "Компонента вектора Шепли для 1 игрока равна 0.13333333333333333\n",
      "Компонента вектора Шепли для 2 игрока равна 0.08333333333333333\n",
      "Компонента вектора Шепли для 3 игрока равна 0.2833333333333333\n",
      "Компонента вектора Шепли для 4 игрока равна 0.18333333333333332\n",
      "Компонента вектора Шепли для 5 игрока равна 0.18333333333333332\n",
      "Компонента вектора Шепли для 6 игрока равна 0.13333333333333333\n",
      "Вектор Шепли: (0.13333333333333333, 0.08333333333333333, 0.2833333333333333, 0.18333333333333332, 0.18333333333333332, 0.13333333333333333)\n",
      "==================================\n",
      "==================================\n",
      "Ресурс 1 игрока равен 50\n",
      "Ресурс 2 игрока равен 350\n",
      "Ресурс 3 игрока равен 100\n",
      "Ресурс 4 игрока равен 80\n",
      "Ресурс 5 игрока равен 700\n",
      "Ресурс 6 игрока равен 650\n",
      "Компонента вектора Шепли для 1 игрока равна 0.016666666666666666\n",
      "Компонента вектора Шепли для 2 игрока равна 0.1\n",
      "Компонента вектора Шепли для 3 игрока равна 0.06666666666666667\n",
      "Компонента вектора Шепли для 4 игрока равна 0.016666666666666666\n",
      "Компонента вектора Шепли для 5 игрока равна 0.39999999999999997\n",
      "Компонента вектора Шепли для 6 игрока равна 0.39999999999999997\n",
      "Вектор Шепли: (0.016666666666666666, 0.1, 0.06666666666666667, 0.016666666666666666, 0.39999999999999997, 0.39999999999999997)\n",
      "==================================\n",
      "==================================\n"
     ]
    }
   ],
   "source": [
    "find_vector_menu() # поменяем число участников и цель"
   ]
  }
 ],
 "metadata": {
  "kernelspec": {
   "display_name": "Python 3",
   "language": "python",
   "name": "python3"
  },
  "language_info": {
   "codemirror_mode": {
    "name": "ipython",
    "version": 3
   },
   "file_extension": ".py",
   "mimetype": "text/x-python",
   "name": "python",
   "nbconvert_exporter": "python",
   "pygments_lexer": "ipython3",
   "version": "3.6.5"
  }
 },
 "nbformat": 4,
 "nbformat_minor": 2
}
